{
 "cells": [
  {
   "cell_type": "markdown",
   "id": "4e90b1c4",
   "metadata": {},
   "source": [
    "# Setup and Configuration\n",
    "    1. Load environment variables and API keys\n",
    "    2. Define file paths and global constants\n",
    "\n",
    "# Connect to Data Sources\n",
    "    1. Establish connections to Yahoo Finance (OHLCV)\n",
    "    2. Initialize EDGAR API client for fundamentals"
   ]
  },
  {
   "cell_type": "code",
   "execution_count": null,
   "id": "e81c72ba",
   "metadata": {},
   "outputs": [],
   "source": [
    "import os, sys \n",
    "# Add the src directory to the Python path\n",
    "sys.path.append(os.path.abspath(os.path.join(os.getcwd(), \"src\")))"
   ]
  },
  {
   "cell_type": "code",
   "execution_count": null,
   "id": "ab1af674",
   "metadata": {},
   "outputs": [],
   "source": [
    "from src.data_ingestion import (\n",
    "    fetch_stock_data as fsd,\n",
    "    cleaning_data as cd,\n",
    "    save_to_csv as sc,\n",
    ")"
   ]
  },
  {
   "cell_type": "markdown",
   "id": "602d4c38",
   "metadata": {},
   "source": [
    "# Download Raw Data\n",
    "    1. Fetch daily price series for the selected tickers\n",
    "    2. Scrape balance‐sheet and income‐statement ratios\n",
    "\n",
    "# Data Quality Checks\n",
    "    1. Identify and handle missing values or outliers\n",
    "    2. Verify time‐alignment across multiple data sources\n",
    "\n",
    "# Persist and Version Raw Data\n",
    "    1. Save raw CSV/JSON files under data/raw/\n",
    "    2. Log ingestion metadata (timestamp, record counts)"
   ]
  },
  {
   "cell_type": "code",
   "execution_count": null,
   "id": "a5a6d0b1",
   "metadata": {},
   "outputs": [],
   "source": [
    "# Fetch stock data for Apple from Yahoo Finance\n",
    "data = fsd(\"AAPL\", \"2010-01-01\", \"2023-01-01\")\n",
    "\n",
    "# Clean the fetched data\n",
    "data = cd(data)\n",
    "\n",
    "# Save the cleaned data to a CSV file\n",
    "data = sc(data, \"AAPL_stock_data.csv\", \"data/raw\")"
   ]
  }
 ],
 "metadata": {
  "kernelspec": {
   "display_name": ".venv",
   "language": "python",
   "name": "python3"
  },
  "language_info": {
   "codemirror_mode": {
    "name": "ipython",
    "version": 3
   },
   "file_extension": ".py",
   "mimetype": "text/x-python",
   "name": "python",
   "nbconvert_exporter": "python",
   "pygments_lexer": "ipython3",
   "version": "3.12.3"
  }
 },
 "nbformat": 4,
 "nbformat_minor": 5
}
